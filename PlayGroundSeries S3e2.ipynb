{
 "cells": [
  {
   "cell_type": "code",
   "execution_count": 1,
   "id": "3fdf4a73",
   "metadata": {
    "_cell_guid": "b1076dfc-b9ad-4769-8c92-a6c4dae69d19",
    "_uuid": "8f2839f25d086af736a60e9eeb907d3b93b6e0e5",
    "execution": {
     "iopub.execute_input": "2023-01-11T21:28:49.386035Z",
     "iopub.status.busy": "2023-01-11T21:28:49.384606Z",
     "iopub.status.idle": "2023-01-11T21:28:49.399494Z",
     "shell.execute_reply": "2023-01-11T21:28:49.398580Z"
    },
    "papermill": {
     "duration": 0.028428,
     "end_time": "2023-01-11T21:28:49.402611",
     "exception": false,
     "start_time": "2023-01-11T21:28:49.374183",
     "status": "completed"
    },
    "tags": []
   },
   "outputs": [
    {
     "name": "stdout",
     "output_type": "stream",
     "text": [
      "/kaggle/input/playground-series-s3e2/sample_submission.csv\n",
      "/kaggle/input/playground-series-s3e2/train.csv\n",
      "/kaggle/input/playground-series-s3e2/test.csv\n"
     ]
    }
   ],
   "source": [
    "# This Python 3 environment comes with many helpful analytics libraries installed\n",
    "# It is defined by the kaggle/python Docker image: https://github.com/kaggle/docker-python\n",
    "# For example, here's several helpful packages to load\n",
    "\n",
    "import numpy as np # linear algebra\n",
    "import pandas as pd # data processing, CSV file I/O (e.g. pd.read_csv)\n",
    "\n",
    "# Input data files are available in the read-only \"../input/\" directory\n",
    "# For example, running this (by clicking run or pressing Shift+Enter) will list all files under the input directory\n",
    "\n",
    "import os\n",
    "for dirname, _, filenames in os.walk('/kaggle/input'):\n",
    "    for filename in filenames:\n",
    "        print(os.path.join(dirname, filename))\n",
    "\n",
    "# You can write up to 20GB to the current directory (/kaggle/working/) that gets preserved as output when you create a version using \"Save & Run All\" \n",
    "# You can also write temporary files to /kaggle/temp/, but they won't be saved outside of the current session"
   ]
  },
  {
   "cell_type": "code",
   "execution_count": 2,
   "id": "21c18f89",
   "metadata": {
    "execution": {
     "iopub.execute_input": "2023-01-11T21:28:49.419093Z",
     "iopub.status.busy": "2023-01-11T21:28:49.417898Z",
     "iopub.status.idle": "2023-01-11T21:28:49.526386Z",
     "shell.execute_reply": "2023-01-11T21:28:49.525395Z"
    },
    "papermill": {
     "duration": 0.119298,
     "end_time": "2023-01-11T21:28:49.529011",
     "exception": false,
     "start_time": "2023-01-11T21:28:49.409713",
     "status": "completed"
    },
    "tags": []
   },
   "outputs": [],
   "source": [
    "df= pd.read_csv('/kaggle/input/playground-series-s3e2/train.csv')\n",
    "test= pd.read_csv('/kaggle/input/playground-series-s3e2/test.csv')\n",
    "submission = pd.read_csv('/kaggle/input/playground-series-s3e2/sample_submission.csv')"
   ]
  },
  {
   "cell_type": "code",
   "execution_count": 3,
   "id": "9a0875d0",
   "metadata": {
    "execution": {
     "iopub.execute_input": "2023-01-11T21:28:49.545297Z",
     "iopub.status.busy": "2023-01-11T21:28:49.544136Z",
     "iopub.status.idle": "2023-01-11T21:28:49.574776Z",
     "shell.execute_reply": "2023-01-11T21:28:49.573447Z"
    },
    "papermill": {
     "duration": 0.041579,
     "end_time": "2023-01-11T21:28:49.577512",
     "exception": false,
     "start_time": "2023-01-11T21:28:49.535933",
     "status": "completed"
    },
    "tags": []
   },
   "outputs": [
    {
     "data": {
      "text/html": [
       "<div>\n",
       "<style scoped>\n",
       "    .dataframe tbody tr th:only-of-type {\n",
       "        vertical-align: middle;\n",
       "    }\n",
       "\n",
       "    .dataframe tbody tr th {\n",
       "        vertical-align: top;\n",
       "    }\n",
       "\n",
       "    .dataframe thead th {\n",
       "        text-align: right;\n",
       "    }\n",
       "</style>\n",
       "<table border=\"1\" class=\"dataframe\">\n",
       "  <thead>\n",
       "    <tr style=\"text-align: right;\">\n",
       "      <th></th>\n",
       "      <th>id</th>\n",
       "      <th>gender</th>\n",
       "      <th>age</th>\n",
       "      <th>hypertension</th>\n",
       "      <th>heart_disease</th>\n",
       "      <th>ever_married</th>\n",
       "      <th>work_type</th>\n",
       "      <th>Residence_type</th>\n",
       "      <th>avg_glucose_level</th>\n",
       "      <th>bmi</th>\n",
       "      <th>smoking_status</th>\n",
       "      <th>stroke</th>\n",
       "    </tr>\n",
       "  </thead>\n",
       "  <tbody>\n",
       "    <tr>\n",
       "      <th>0</th>\n",
       "      <td>0</td>\n",
       "      <td>Male</td>\n",
       "      <td>28.0</td>\n",
       "      <td>0</td>\n",
       "      <td>0</td>\n",
       "      <td>Yes</td>\n",
       "      <td>Private</td>\n",
       "      <td>Urban</td>\n",
       "      <td>79.53</td>\n",
       "      <td>31.1</td>\n",
       "      <td>never smoked</td>\n",
       "      <td>0</td>\n",
       "    </tr>\n",
       "    <tr>\n",
       "      <th>1</th>\n",
       "      <td>1</td>\n",
       "      <td>Male</td>\n",
       "      <td>33.0</td>\n",
       "      <td>0</td>\n",
       "      <td>0</td>\n",
       "      <td>Yes</td>\n",
       "      <td>Private</td>\n",
       "      <td>Rural</td>\n",
       "      <td>78.44</td>\n",
       "      <td>23.9</td>\n",
       "      <td>formerly smoked</td>\n",
       "      <td>0</td>\n",
       "    </tr>\n",
       "    <tr>\n",
       "      <th>2</th>\n",
       "      <td>2</td>\n",
       "      <td>Female</td>\n",
       "      <td>42.0</td>\n",
       "      <td>0</td>\n",
       "      <td>0</td>\n",
       "      <td>Yes</td>\n",
       "      <td>Private</td>\n",
       "      <td>Rural</td>\n",
       "      <td>103.00</td>\n",
       "      <td>40.3</td>\n",
       "      <td>Unknown</td>\n",
       "      <td>0</td>\n",
       "    </tr>\n",
       "    <tr>\n",
       "      <th>3</th>\n",
       "      <td>3</td>\n",
       "      <td>Male</td>\n",
       "      <td>56.0</td>\n",
       "      <td>0</td>\n",
       "      <td>0</td>\n",
       "      <td>Yes</td>\n",
       "      <td>Private</td>\n",
       "      <td>Urban</td>\n",
       "      <td>64.87</td>\n",
       "      <td>28.8</td>\n",
       "      <td>never smoked</td>\n",
       "      <td>0</td>\n",
       "    </tr>\n",
       "    <tr>\n",
       "      <th>4</th>\n",
       "      <td>4</td>\n",
       "      <td>Female</td>\n",
       "      <td>24.0</td>\n",
       "      <td>0</td>\n",
       "      <td>0</td>\n",
       "      <td>No</td>\n",
       "      <td>Private</td>\n",
       "      <td>Rural</td>\n",
       "      <td>73.36</td>\n",
       "      <td>28.8</td>\n",
       "      <td>never smoked</td>\n",
       "      <td>0</td>\n",
       "    </tr>\n",
       "  </tbody>\n",
       "</table>\n",
       "</div>"
      ],
      "text/plain": [
       "   id  gender   age  hypertension  heart_disease ever_married work_type  \\\n",
       "0   0    Male  28.0             0              0          Yes   Private   \n",
       "1   1    Male  33.0             0              0          Yes   Private   \n",
       "2   2  Female  42.0             0              0          Yes   Private   \n",
       "3   3    Male  56.0             0              0          Yes   Private   \n",
       "4   4  Female  24.0             0              0           No   Private   \n",
       "\n",
       "  Residence_type  avg_glucose_level   bmi   smoking_status  stroke  \n",
       "0          Urban              79.53  31.1     never smoked       0  \n",
       "1          Rural              78.44  23.9  formerly smoked       0  \n",
       "2          Rural             103.00  40.3          Unknown       0  \n",
       "3          Urban              64.87  28.8     never smoked       0  \n",
       "4          Rural              73.36  28.8     never smoked       0  "
      ]
     },
     "execution_count": 3,
     "metadata": {},
     "output_type": "execute_result"
    }
   ],
   "source": [
    "df.head()"
   ]
  },
  {
   "cell_type": "code",
   "execution_count": 4,
   "id": "7073c1ee",
   "metadata": {
    "execution": {
     "iopub.execute_input": "2023-01-11T21:28:49.594169Z",
     "iopub.status.busy": "2023-01-11T21:28:49.593730Z",
     "iopub.status.idle": "2023-01-11T21:28:49.610327Z",
     "shell.execute_reply": "2023-01-11T21:28:49.609042Z"
    },
    "papermill": {
     "duration": 0.028551,
     "end_time": "2023-01-11T21:28:49.613038",
     "exception": false,
     "start_time": "2023-01-11T21:28:49.584487",
     "status": "completed"
    },
    "tags": []
   },
   "outputs": [
    {
     "data": {
      "text/plain": [
       "id                   0\n",
       "gender               0\n",
       "age                  0\n",
       "hypertension         0\n",
       "heart_disease        0\n",
       "ever_married         0\n",
       "work_type            0\n",
       "Residence_type       0\n",
       "avg_glucose_level    0\n",
       "bmi                  0\n",
       "smoking_status       0\n",
       "stroke               0\n",
       "dtype: int64"
      ]
     },
     "execution_count": 4,
     "metadata": {},
     "output_type": "execute_result"
    }
   ],
   "source": [
    "#Check for null values\n",
    "df.isnull().sum()"
   ]
  },
  {
   "cell_type": "code",
   "execution_count": 5,
   "id": "b5107c40",
   "metadata": {
    "execution": {
     "iopub.execute_input": "2023-01-11T21:28:49.629227Z",
     "iopub.status.busy": "2023-01-11T21:28:49.628785Z",
     "iopub.status.idle": "2023-01-11T21:28:49.637164Z",
     "shell.execute_reply": "2023-01-11T21:28:49.635952Z"
    },
    "papermill": {
     "duration": 0.019609,
     "end_time": "2023-01-11T21:28:49.639644",
     "exception": false,
     "start_time": "2023-01-11T21:28:49.620035",
     "status": "completed"
    },
    "tags": []
   },
   "outputs": [
    {
     "data": {
      "text/plain": [
       "Index(['id', 'gender', 'age', 'hypertension', 'heart_disease', 'ever_married',\n",
       "       'work_type', 'Residence_type', 'avg_glucose_level', 'bmi',\n",
       "       'smoking_status', 'stroke'],\n",
       "      dtype='object')"
      ]
     },
     "execution_count": 5,
     "metadata": {},
     "output_type": "execute_result"
    }
   ],
   "source": [
    "# getting column names\n",
    "df.columns"
   ]
  },
  {
   "cell_type": "code",
   "execution_count": 6,
   "id": "18b1ba0b",
   "metadata": {
    "execution": {
     "iopub.execute_input": "2023-01-11T21:28:49.656023Z",
     "iopub.status.busy": "2023-01-11T21:28:49.655587Z",
     "iopub.status.idle": "2023-01-11T21:28:49.680684Z",
     "shell.execute_reply": "2023-01-11T21:28:49.679145Z"
    },
    "papermill": {
     "duration": 0.036481,
     "end_time": "2023-01-11T21:28:49.683232",
     "exception": false,
     "start_time": "2023-01-11T21:28:49.646751",
     "status": "completed"
    },
    "tags": []
   },
   "outputs": [
    {
     "name": "stdout",
     "output_type": "stream",
     "text": [
      "[0 1] [0 1] ['Yes' 'No'] ['Private' 'Self-employed' 'Govt_job' 'children' 'Never_worked']\n",
      "['Urban' 'Rural'] ['never smoked' 'formerly smoked' 'Unknown' 'smokes'] [0 1]\n"
     ]
    }
   ],
   "source": [
    "# getting all unique values from all categorical/ordinal columns\n",
    "print(df.hypertension.unique(),df.heart_disease.unique(),df.ever_married.unique(),df.work_type.unique())\n",
    "print(df.Residence_type.unique(),df.smoking_status.unique(),df.stroke.unique())"
   ]
  },
  {
   "cell_type": "code",
   "execution_count": 7,
   "id": "aaf0a23a",
   "metadata": {
    "execution": {
     "iopub.execute_input": "2023-01-11T21:28:49.700344Z",
     "iopub.status.busy": "2023-01-11T21:28:49.699855Z",
     "iopub.status.idle": "2023-01-11T21:28:49.708141Z",
     "shell.execute_reply": "2023-01-11T21:28:49.706556Z"
    },
    "papermill": {
     "duration": 0.020566,
     "end_time": "2023-01-11T21:28:49.711139",
     "exception": false,
     "start_time": "2023-01-11T21:28:49.690573",
     "status": "completed"
    },
    "tags": []
   },
   "outputs": [
    {
     "data": {
      "text/plain": [
       "Index(['id', 'gender', 'age', 'hypertension', 'heart_disease', 'ever_married',\n",
       "       'work_type', 'Residence_type', 'avg_glucose_level', 'bmi',\n",
       "       'smoking_status', 'stroke'],\n",
       "      dtype='object')"
      ]
     },
     "execution_count": 7,
     "metadata": {},
     "output_type": "execute_result"
    }
   ],
   "source": [
    "df.columns"
   ]
  },
  {
   "cell_type": "code",
   "execution_count": 8,
   "id": "e72184bf",
   "metadata": {
    "execution": {
     "iopub.execute_input": "2023-01-11T21:28:49.730489Z",
     "iopub.status.busy": "2023-01-11T21:28:49.730025Z",
     "iopub.status.idle": "2023-01-11T21:28:49.748987Z",
     "shell.execute_reply": "2023-01-11T21:28:49.747408Z"
    },
    "papermill": {
     "duration": 0.030983,
     "end_time": "2023-01-11T21:28:49.751737",
     "exception": false,
     "start_time": "2023-01-11T21:28:49.720754",
     "status": "completed"
    },
    "tags": []
   },
   "outputs": [
    {
     "name": "stdout",
     "output_type": "stream",
     "text": [
      "15304\n",
      "3\n",
      "106\n",
      "2\n",
      "2\n",
      "2\n",
      "5\n",
      "2\n",
      "3740\n",
      "407\n",
      "4\n",
      "2\n"
     ]
    }
   ],
   "source": [
    "for i in df.columns:\n",
    "    print (df[i].nunique())"
   ]
  },
  {
   "cell_type": "code",
   "execution_count": 9,
   "id": "fa53ca23",
   "metadata": {
    "execution": {
     "iopub.execute_input": "2023-01-11T21:28:49.769019Z",
     "iopub.status.busy": "2023-01-11T21:28:49.768597Z",
     "iopub.status.idle": "2023-01-11T21:28:49.808763Z",
     "shell.execute_reply": "2023-01-11T21:28:49.807300Z"
    },
    "papermill": {
     "duration": 0.052528,
     "end_time": "2023-01-11T21:28:49.811844",
     "exception": false,
     "start_time": "2023-01-11T21:28:49.759316",
     "status": "completed"
    },
    "tags": []
   },
   "outputs": [],
   "source": [
    "# Replaceing yesses with ones and nos with zeros\n",
    "# Replacing Urbans with ones and Rurlas with zeros\n",
    "df.ever_married.replace('Yes',1, inplace=True)\n",
    "df.ever_married.replace('No',0, inplace=True)\n",
    "df.Residence_type.replace('Urban',1, inplace=True)\n",
    "df.Residence_type.replace('Rural',0, inplace=True)\n",
    "df.gender.replace('Male',1, inplace=True)\n",
    "df.gender.replace('Female',0, inplace=True)\n",
    "#aaaaaaaaaaaaaagh\n",
    "test.ever_married.replace('Yes',1, inplace=True)\n",
    "test.ever_married.replace('No',0, inplace=True)\n",
    "test.Residence_type.replace('Urban',1, inplace=True)\n",
    "test.Residence_type.replace('Rural',0, inplace=True)\n",
    "test.gender.replace('Male',1, inplace=True)\n",
    "test.gender.replace('Female',0, inplace=True)"
   ]
  },
  {
   "cell_type": "code",
   "execution_count": 10,
   "id": "d782f855",
   "metadata": {
    "execution": {
     "iopub.execute_input": "2023-01-11T21:28:49.828938Z",
     "iopub.status.busy": "2023-01-11T21:28:49.828494Z",
     "iopub.status.idle": "2023-01-11T21:28:49.847459Z",
     "shell.execute_reply": "2023-01-11T21:28:49.845955Z"
    },
    "papermill": {
     "duration": 0.030934,
     "end_time": "2023-01-11T21:28:49.850470",
     "exception": false,
     "start_time": "2023-01-11T21:28:49.819536",
     "status": "completed"
    },
    "tags": []
   },
   "outputs": [],
   "source": [
    "df = df[df.gender != 'Other']\n",
    "test.gender.replace('Other',2, inplace=True)"
   ]
  },
  {
   "cell_type": "code",
   "execution_count": 11,
   "id": "adcda6fc",
   "metadata": {
    "execution": {
     "iopub.execute_input": "2023-01-11T21:28:49.867702Z",
     "iopub.status.busy": "2023-01-11T21:28:49.867224Z",
     "iopub.status.idle": "2023-01-11T21:28:49.891131Z",
     "shell.execute_reply": "2023-01-11T21:28:49.889906Z"
    },
    "papermill": {
     "duration": 0.035673,
     "end_time": "2023-01-11T21:28:49.893656",
     "exception": false,
     "start_time": "2023-01-11T21:28:49.857983",
     "status": "completed"
    },
    "tags": []
   },
   "outputs": [],
   "source": [
    "df.smoking_status.replace('never smoked',-2, inplace=True)\n",
    "df.smoking_status.replace('formerly smoked',0, inplace=True)\n",
    "df.smoking_status.replace('smokes',2, inplace=True)\n",
    "df.smoking_status.replace('Unknown',0, inplace=True)\n",
    "#aaaaaaaaaaaaaagh\n",
    "test.smoking_status.replace('never smoked',-2, inplace=True)\n",
    "test.smoking_status.replace('formerly smoked',0, inplace=True)\n",
    "test.smoking_status.replace('smokes',2, inplace=True)\n",
    "test.smoking_status.replace('Unknown',0, inplace=True)\n",
    "\n",
    "\n",
    "\n",
    "\n"
   ]
  },
  {
   "cell_type": "code",
   "execution_count": 12,
   "id": "df4a0566",
   "metadata": {
    "execution": {
     "iopub.execute_input": "2023-01-11T21:28:49.910995Z",
     "iopub.status.busy": "2023-01-11T21:28:49.910495Z",
     "iopub.status.idle": "2023-01-11T21:28:49.922110Z",
     "shell.execute_reply": "2023-01-11T21:28:49.920896Z"
    },
    "papermill": {
     "duration": 0.023214,
     "end_time": "2023-01-11T21:28:49.924321",
     "exception": false,
     "start_time": "2023-01-11T21:28:49.901107",
     "status": "completed"
    },
    "tags": []
   },
   "outputs": [
    {
     "data": {
      "text/plain": [
       " 0    6879\n",
       "-2    6281\n",
       " 2    2143\n",
       "Name: smoking_status, dtype: int64"
      ]
     },
     "execution_count": 12,
     "metadata": {},
     "output_type": "execute_result"
    }
   ],
   "source": [
    "df.smoking_status.value_counts()"
   ]
  },
  {
   "cell_type": "code",
   "execution_count": null,
   "id": "958a8de4",
   "metadata": {
    "papermill": {
     "duration": 0.007059,
     "end_time": "2023-01-11T21:28:49.938813",
     "exception": false,
     "start_time": "2023-01-11T21:28:49.931754",
     "status": "completed"
    },
    "tags": []
   },
   "outputs": [],
   "source": []
  },
  {
   "cell_type": "code",
   "execution_count": 13,
   "id": "a1f1d1b0",
   "metadata": {
    "execution": {
     "iopub.execute_input": "2023-01-11T21:28:49.955622Z",
     "iopub.status.busy": "2023-01-11T21:28:49.955133Z",
     "iopub.status.idle": "2023-01-11T21:28:51.386703Z",
     "shell.execute_reply": "2023-01-11T21:28:51.385336Z"
    },
    "papermill": {
     "duration": 1.443709,
     "end_time": "2023-01-11T21:28:51.389930",
     "exception": false,
     "start_time": "2023-01-11T21:28:49.946221",
     "status": "completed"
    },
    "tags": []
   },
   "outputs": [],
   "source": [
    "from sklearn.tree import DecisionTreeRegressor\n"
   ]
  },
  {
   "cell_type": "code",
   "execution_count": 14,
   "id": "9d243d79",
   "metadata": {
    "execution": {
     "iopub.execute_input": "2023-01-11T21:28:51.407207Z",
     "iopub.status.busy": "2023-01-11T21:28:51.406753Z",
     "iopub.status.idle": "2023-01-11T21:28:51.413979Z",
     "shell.execute_reply": "2023-01-11T21:28:51.412990Z"
    },
    "papermill": {
     "duration": 0.019151,
     "end_time": "2023-01-11T21:28:51.416782",
     "exception": false,
     "start_time": "2023-01-11T21:28:51.397631",
     "status": "completed"
    },
    "tags": []
   },
   "outputs": [
    {
     "data": {
      "text/plain": [
       "Index(['id', 'gender', 'age', 'hypertension', 'heart_disease', 'ever_married',\n",
       "       'work_type', 'Residence_type', 'avg_glucose_level', 'bmi',\n",
       "       'smoking_status', 'stroke'],\n",
       "      dtype='object')"
      ]
     },
     "execution_count": 14,
     "metadata": {},
     "output_type": "execute_result"
    }
   ],
   "source": [
    "df.columns"
   ]
  },
  {
   "cell_type": "code",
   "execution_count": 15,
   "id": "d082ce41",
   "metadata": {
    "execution": {
     "iopub.execute_input": "2023-01-11T21:28:51.434786Z",
     "iopub.status.busy": "2023-01-11T21:28:51.434284Z",
     "iopub.status.idle": "2023-01-11T21:28:51.446815Z",
     "shell.execute_reply": "2023-01-11T21:28:51.445569Z"
    },
    "papermill": {
     "duration": 0.024868,
     "end_time": "2023-01-11T21:28:51.449559",
     "exception": false,
     "start_time": "2023-01-11T21:28:51.424691",
     "status": "completed"
    },
    "tags": []
   },
   "outputs": [],
   "source": [
    "y= df.stroke\n",
    "x=['gender', 'age', 'hypertension', 'heart_disease', 'ever_married',\n",
    "      'Residence_type', 'avg_glucose_level', 'bmi','smoking_status']\n",
    "X= df[x]\n",
    "# aaaaaaaaaaaaaagh\n",
    "X2= test[x]"
   ]
  },
  {
   "cell_type": "code",
   "execution_count": 16,
   "id": "c7151857",
   "metadata": {
    "execution": {
     "iopub.execute_input": "2023-01-11T21:28:51.467279Z",
     "iopub.status.busy": "2023-01-11T21:28:51.466811Z",
     "iopub.status.idle": "2023-01-11T21:28:51.476961Z",
     "shell.execute_reply": "2023-01-11T21:28:51.476077Z"
    },
    "papermill": {
     "duration": 0.021607,
     "end_time": "2023-01-11T21:28:51.479091",
     "exception": false,
     "start_time": "2023-01-11T21:28:51.457484",
     "status": "completed"
    },
    "tags": []
   },
   "outputs": [
    {
     "data": {
      "text/plain": [
       "Private          9752\n",
       "children         2037\n",
       "Self-employed    1939\n",
       "Govt_job         1533\n",
       "Never_worked       42\n",
       "Name: work_type, dtype: int64"
      ]
     },
     "execution_count": 16,
     "metadata": {},
     "output_type": "execute_result"
    }
   ],
   "source": [
    "df.work_type.value_counts()"
   ]
  },
  {
   "cell_type": "code",
   "execution_count": 17,
   "id": "44d78ed5",
   "metadata": {
    "execution": {
     "iopub.execute_input": "2023-01-11T21:28:51.497239Z",
     "iopub.status.busy": "2023-01-11T21:28:51.496457Z",
     "iopub.status.idle": "2023-01-11T21:28:51.506269Z",
     "shell.execute_reply": "2023-01-11T21:28:51.505302Z"
    },
    "papermill": {
     "duration": 0.022033,
     "end_time": "2023-01-11T21:28:51.508956",
     "exception": false,
     "start_time": "2023-01-11T21:28:51.486923",
     "status": "completed"
    },
    "tags": []
   },
   "outputs": [],
   "source": [
    "final_column=pd.get_dummies(df.work_type)\n",
    "final_column2=pd.get_dummies(test.work_type)"
   ]
  },
  {
   "cell_type": "code",
   "execution_count": 18,
   "id": "fe8111ca",
   "metadata": {
    "execution": {
     "iopub.execute_input": "2023-01-11T21:28:51.526600Z",
     "iopub.status.busy": "2023-01-11T21:28:51.526130Z",
     "iopub.status.idle": "2023-01-11T21:28:51.536969Z",
     "shell.execute_reply": "2023-01-11T21:28:51.535672Z"
    },
    "papermill": {
     "duration": 0.023018,
     "end_time": "2023-01-11T21:28:51.539922",
     "exception": false,
     "start_time": "2023-01-11T21:28:51.516904",
     "status": "completed"
    },
    "tags": []
   },
   "outputs": [],
   "source": [
    "X=pd.concat([X, final_column], axis=1)\n",
    "X2=pd.concat([X2, final_column2], axis=1)\n",
    "\n",
    "# test=pd.concat([test, final_column], axis=1)\n"
   ]
  },
  {
   "cell_type": "code",
   "execution_count": 19,
   "id": "5d3ba38f",
   "metadata": {
    "execution": {
     "iopub.execute_input": "2023-01-11T21:28:51.558027Z",
     "iopub.status.busy": "2023-01-11T21:28:51.557042Z",
     "iopub.status.idle": "2023-01-11T21:28:51.633019Z",
     "shell.execute_reply": "2023-01-11T21:28:51.631731Z"
    },
    "papermill": {
     "duration": 0.088421,
     "end_time": "2023-01-11T21:28:51.636055",
     "exception": false,
     "start_time": "2023-01-11T21:28:51.547634",
     "status": "completed"
    },
    "tags": []
   },
   "outputs": [],
   "source": [
    "from sklearn.ensemble import RandomForestClassifier"
   ]
  },
  {
   "cell_type": "code",
   "execution_count": 20,
   "id": "b1e17793",
   "metadata": {
    "execution": {
     "iopub.execute_input": "2023-01-11T21:28:51.653411Z",
     "iopub.status.busy": "2023-01-11T21:28:51.652926Z",
     "iopub.status.idle": "2023-01-11T21:28:53.058404Z",
     "shell.execute_reply": "2023-01-11T21:28:53.056763Z"
    },
    "papermill": {
     "duration": 1.418066,
     "end_time": "2023-01-11T21:28:53.061774",
     "exception": false,
     "start_time": "2023-01-11T21:28:51.643708",
     "status": "completed"
    },
    "tags": []
   },
   "outputs": [
    {
     "data": {
      "text/plain": [
       "RandomForestClassifier()"
      ]
     },
     "execution_count": 20,
     "metadata": {},
     "output_type": "execute_result"
    }
   ],
   "source": [
    "model = RandomForestClassifier()\n",
    "# Fit model\n",
    "model.fit(X, y)"
   ]
  },
  {
   "cell_type": "code",
   "execution_count": 21,
   "id": "b593cfca",
   "metadata": {
    "execution": {
     "iopub.execute_input": "2023-01-11T21:28:53.079800Z",
     "iopub.status.busy": "2023-01-11T21:28:53.079341Z",
     "iopub.status.idle": "2023-01-11T21:28:53.261629Z",
     "shell.execute_reply": "2023-01-11T21:28:53.260306Z"
    },
    "papermill": {
     "duration": 0.195757,
     "end_time": "2023-01-11T21:28:53.265600",
     "exception": false,
     "start_time": "2023-01-11T21:28:53.069843",
     "status": "completed"
    },
    "tags": []
   },
   "outputs": [],
   "source": [
    "result=model.predict(X2)"
   ]
  },
  {
   "cell_type": "code",
   "execution_count": 22,
   "id": "58a9c6f7",
   "metadata": {
    "execution": {
     "iopub.execute_input": "2023-01-11T21:28:53.287307Z",
     "iopub.status.busy": "2023-01-11T21:28:53.286280Z",
     "iopub.status.idle": "2023-01-11T21:28:53.293986Z",
     "shell.execute_reply": "2023-01-11T21:28:53.292236Z"
    },
    "papermill": {
     "duration": 0.020246,
     "end_time": "2023-01-11T21:28:53.296825",
     "exception": false,
     "start_time": "2023-01-11T21:28:53.276579",
     "status": "completed"
    },
    "tags": []
   },
   "outputs": [],
   "source": [
    "submission['stroke']=result"
   ]
  },
  {
   "cell_type": "code",
   "execution_count": 23,
   "id": "20a11a2c",
   "metadata": {
    "execution": {
     "iopub.execute_input": "2023-01-11T21:28:53.317362Z",
     "iopub.status.busy": "2023-01-11T21:28:53.316291Z",
     "iopub.status.idle": "2023-01-11T21:28:53.329945Z",
     "shell.execute_reply": "2023-01-11T21:28:53.329089Z"
    },
    "papermill": {
     "duration": 0.026085,
     "end_time": "2023-01-11T21:28:53.332136",
     "exception": false,
     "start_time": "2023-01-11T21:28:53.306051",
     "status": "completed"
    },
    "tags": []
   },
   "outputs": [
    {
     "data": {
      "text/html": [
       "<div>\n",
       "<style scoped>\n",
       "    .dataframe tbody tr th:only-of-type {\n",
       "        vertical-align: middle;\n",
       "    }\n",
       "\n",
       "    .dataframe tbody tr th {\n",
       "        vertical-align: top;\n",
       "    }\n",
       "\n",
       "    .dataframe thead th {\n",
       "        text-align: right;\n",
       "    }\n",
       "</style>\n",
       "<table border=\"1\" class=\"dataframe\">\n",
       "  <thead>\n",
       "    <tr style=\"text-align: right;\">\n",
       "      <th></th>\n",
       "      <th>id</th>\n",
       "      <th>stroke</th>\n",
       "    </tr>\n",
       "  </thead>\n",
       "  <tbody>\n",
       "    <tr>\n",
       "      <th>0</th>\n",
       "      <td>15304</td>\n",
       "      <td>0</td>\n",
       "    </tr>\n",
       "    <tr>\n",
       "      <th>1</th>\n",
       "      <td>15305</td>\n",
       "      <td>0</td>\n",
       "    </tr>\n",
       "    <tr>\n",
       "      <th>2</th>\n",
       "      <td>15306</td>\n",
       "      <td>0</td>\n",
       "    </tr>\n",
       "    <tr>\n",
       "      <th>3</th>\n",
       "      <td>15307</td>\n",
       "      <td>0</td>\n",
       "    </tr>\n",
       "    <tr>\n",
       "      <th>4</th>\n",
       "      <td>15308</td>\n",
       "      <td>0</td>\n",
       "    </tr>\n",
       "    <tr>\n",
       "      <th>...</th>\n",
       "      <td>...</td>\n",
       "      <td>...</td>\n",
       "    </tr>\n",
       "    <tr>\n",
       "      <th>10199</th>\n",
       "      <td>25503</td>\n",
       "      <td>0</td>\n",
       "    </tr>\n",
       "    <tr>\n",
       "      <th>10200</th>\n",
       "      <td>25504</td>\n",
       "      <td>0</td>\n",
       "    </tr>\n",
       "    <tr>\n",
       "      <th>10201</th>\n",
       "      <td>25505</td>\n",
       "      <td>0</td>\n",
       "    </tr>\n",
       "    <tr>\n",
       "      <th>10202</th>\n",
       "      <td>25506</td>\n",
       "      <td>0</td>\n",
       "    </tr>\n",
       "    <tr>\n",
       "      <th>10203</th>\n",
       "      <td>25507</td>\n",
       "      <td>0</td>\n",
       "    </tr>\n",
       "  </tbody>\n",
       "</table>\n",
       "<p>10204 rows × 2 columns</p>\n",
       "</div>"
      ],
      "text/plain": [
       "          id  stroke\n",
       "0      15304       0\n",
       "1      15305       0\n",
       "2      15306       0\n",
       "3      15307       0\n",
       "4      15308       0\n",
       "...      ...     ...\n",
       "10199  25503       0\n",
       "10200  25504       0\n",
       "10201  25505       0\n",
       "10202  25506       0\n",
       "10203  25507       0\n",
       "\n",
       "[10204 rows x 2 columns]"
      ]
     },
     "execution_count": 23,
     "metadata": {},
     "output_type": "execute_result"
    }
   ],
   "source": [
    "submission"
   ]
  },
  {
   "cell_type": "code",
   "execution_count": 24,
   "id": "3624d252",
   "metadata": {
    "execution": {
     "iopub.execute_input": "2023-01-11T21:28:53.358285Z",
     "iopub.status.busy": "2023-01-11T21:28:53.357318Z",
     "iopub.status.idle": "2023-01-11T21:28:53.386491Z",
     "shell.execute_reply": "2023-01-11T21:28:53.385590Z"
    },
    "papermill": {
     "duration": 0.042535,
     "end_time": "2023-01-11T21:28:53.389472",
     "exception": false,
     "start_time": "2023-01-11T21:28:53.346937",
     "status": "completed"
    },
    "tags": []
   },
   "outputs": [],
   "source": [
    "submission.to_csv('submission.csv', index=False)"
   ]
  },
  {
   "cell_type": "code",
   "execution_count": null,
   "id": "48317bc3",
   "metadata": {
    "papermill": {
     "duration": 0.007781,
     "end_time": "2023-01-11T21:28:53.405493",
     "exception": false,
     "start_time": "2023-01-11T21:28:53.397712",
     "status": "completed"
    },
    "tags": []
   },
   "outputs": [],
   "source": []
  }
 ],
 "metadata": {
  "kernelspec": {
   "display_name": "Python 3",
   "language": "python",
   "name": "python3"
  },
  "language_info": {
   "codemirror_mode": {
    "name": "ipython",
    "version": 3
   },
   "file_extension": ".py",
   "mimetype": "text/x-python",
   "name": "python",
   "nbconvert_exporter": "python",
   "pygments_lexer": "ipython3",
   "version": "3.7.12"
  },
  "papermill": {
   "default_parameters": {},
   "duration": 16.12807,
   "end_time": "2023-01-11T21:28:54.337180",
   "environment_variables": {},
   "exception": null,
   "input_path": "__notebook__.ipynb",
   "output_path": "__notebook__.ipynb",
   "parameters": {},
   "start_time": "2023-01-11T21:28:38.209110",
   "version": "2.3.4"
  }
 },
 "nbformat": 4,
 "nbformat_minor": 5
}
